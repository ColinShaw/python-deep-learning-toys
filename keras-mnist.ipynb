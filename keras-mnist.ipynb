{
 "cells": [
  {
   "cell_type": "markdown",
   "metadata": {
    "collapsed": true
   },
   "source": [
    "## Keras MNIST classifier\n",
    "\n",
    "This is a basic MNIST classifier in Keras.  I designed the model to be as minimal as possible with good performance and generalization.  It is necassary to use data augmentation in order to get the best results with the hard to classify digits.  This trains really fast on a decent GPU (minutes at most), and will give good generalization with 99.6+% accuracy."
   ]
  },
  {
   "cell_type": "code",
   "execution_count": null,
   "metadata": {
    "collapsed": false
   },
   "outputs": [],
   "source": [
    "import numpy as np\n",
    "from keras.utils import np_utils\n",
    "from keras.datasets import mnist\n",
    "from keras.models import Sequential\n",
    "from keras.layers import Dense, Dropout, Activation, Flatten, Convolution2D, MaxPooling2D\n",
    "from keras.preprocessing.image import ImageDataGenerator\n",
    "\n",
    "ROTATION_RANGE = 15\n",
    "SHIFT_RANGE    = 0.1\n",
    "BATCH_SIZE     = 100\n",
    "EPOCHS         = 20\n",
    "\n",
    "(X_train, y_train), (X_test, y_test) = mnist.load_data()\n",
    "\n",
    "X_train = X_train.reshape(X_train.shape[0], 28, 28, 1).astype('float32') / 255\n",
    "Y_train = np_utils.to_categorical(y_train, 10)\n",
    "\n",
    "X_test  = X_test.reshape(X_test.shape[0], 28, 28, 1).astype('float32') / 255\n",
    "Y_test  = np_utils.to_categorical(y_test, 10)\n",
    "\n",
    "model = Sequential([\n",
    "    Convolution2D(32, 3, 3, border_mode='valid', input_shape=(28, 28, 1)),\n",
    "    Activation('relu'),\n",
    "    Convolution2D(32, 5, 5, border_mode='valid'),\n",
    "    Activation('relu'),\n",
    "    Convolution2D(32, 7, 7, border_mode='valid'),\n",
    "    Activation('relu'),\n",
    "    MaxPooling2D(pool_size=(2,2)),\n",
    "    Dropout(0.35),\n",
    "    Flatten(),\n",
    "    Dense(128),\n",
    "    Activation('relu'),\n",
    "    Dropout(0.5),\n",
    "    Dense(10),\n",
    "    Activation('softmax')\n",
    "])\n",
    "model.compile(loss='categorical_crossentropy', optimizer='adam', metrics=['accuracy'])\n",
    "\n",
    "dg = ImageDataGenerator(rotation_range=ROTATION_RANGE, width_shift_range=SHIFT_RANGE, height_shift_range=SHIFT_RANGE)\n",
    "dg.fit(X_train)    \n",
    "model.fit_generator(dg.flow(X_train, Y_train, batch_size=BATCH_SIZE), samples_per_epoch=len(X_train), nb_epoch=EPOCHS, validation_data=(X_test,Y_test))\n",
    "\n",
    "score = model.evaluate(X_test, Y_test, verbose=0)\n",
    "print('Accuracy:', score[1])"
   ]
  }
 ],
 "metadata": {
  "anaconda-cloud": {},
  "kernelspec": {
   "display_name": "Python [conda env:tensorflow]",
   "language": "python",
   "name": "conda-env-tensorflow-py"
  },
  "language_info": {
   "codemirror_mode": {
    "name": "ipython",
    "version": 3
   },
   "file_extension": ".py",
   "mimetype": "text/x-python",
   "name": "python",
   "nbconvert_exporter": "python",
   "pygments_lexer": "ipython3",
   "version": "3.5.2"
  }
 },
 "nbformat": 4,
 "nbformat_minor": 1
}
